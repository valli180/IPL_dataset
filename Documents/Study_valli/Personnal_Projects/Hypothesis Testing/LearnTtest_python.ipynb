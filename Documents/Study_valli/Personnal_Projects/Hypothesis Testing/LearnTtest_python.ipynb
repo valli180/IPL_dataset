{
 "cells": [
  {
   "cell_type": "code",
   "execution_count": 1,
   "id": "8f882848-6369-49e0-b14d-91b3407b6a07",
   "metadata": {},
   "outputs": [],
   "source": [
    "import numpy as np\n",
    "import pandas as pd\n",
    "import scipy.stats as stats\n",
    "import matplotlib.pyplot as plt\n",
    "import math"
   ]
  },
  {
   "cell_type": "code",
   "execution_count": 12,
   "id": "48d0aaaf-889c-49c2-a7f9-3d1f76aad2ae",
   "metadata": {},
   "outputs": [
    {
     "name": "stdout",
     "output_type": "stream",
     "text": [
      "43.000112\n",
      "39.26\n",
      "42.8\n"
     ]
    }
   ],
   "source": [
    "np.random.seed(6)\n",
    "\n",
    "population_ages1 = stats.poisson.rvs(loc=18, mu=35, size=150000)\n",
    "population_ages2 = stats.poisson.rvs(loc=18, mu=10, size=100000)\n",
    "population_ages = np.concatenate((population_ages1, population_ages2))\n",
    "\n",
    "minnesota_ages1 = stats.poisson.rvs(loc=18, mu=30, size=30)\n",
    "minnesota_ages2 = stats.poisson.rvs(loc=18, mu=10, size=20)\n",
    "minnesota_ages = np.concatenate((minnesota_ages1, minnesota_ages2))\n",
    "np.random.seed(12)\n",
    "wisconsin_ages1 = stats.poisson.rvs(loc=18, mu=33, size=30)\n",
    "wisconsin_ages2 = stats.poisson.rvs(loc=18, mu=13, size=20)\n",
    "wisconsin_ages = np.concatenate((wisconsin_ages1, wisconsin_ages2))\n",
    "\n",
    "\n",
    "\n",
    "print(population_ages.mean())\n",
    "print(minnesota_ages.mean())\n",
    "print(wisconsin_ages.mean())"
   ]
  },
  {
   "cell_type": "markdown",
   "id": "161f5553-1a89-4291-8eac-ced5968d9d23",
   "metadata": {},
   "source": [
    "#### Calculates the T-test for the mean of ONE group of scores.\n",
    "\n",
    "#### This is a two-sided test for the null hypothesis that the expected value (mean) of a sample of independent observations a is equal to the given population mean, popmean."
   ]
  },
  {
   "cell_type": "code",
   "execution_count": 3,
   "id": "84051195-125f-49f2-aa96-c18179d0e52c",
   "metadata": {},
   "outputs": [],
   "source": [
    "t_statistic, p_value = stats.ttest_1samp(a = minnesota_ages,\n",
    "                 popmean = population_ages.mean())"
   ]
  },
  {
   "cell_type": "code",
   "execution_count": 4,
   "id": "c4ff01b3-f98a-4bd1-9e5f-6e93853b90af",
   "metadata": {},
   "outputs": [
    {
     "data": {
      "text/plain": [
       "-2.5742714883655027"
      ]
     },
     "execution_count": 4,
     "metadata": {},
     "output_type": "execute_result"
    }
   ],
   "source": [
    "t_statistic"
   ]
  },
  {
   "cell_type": "code",
   "execution_count": 5,
   "id": "18bc650b-8585-40e1-8741-8f3503e4bb6b",
   "metadata": {},
   "outputs": [
    {
     "data": {
      "text/plain": [
       "0.013118685425061678"
      ]
     },
     "execution_count": 5,
     "metadata": {},
     "output_type": "execute_result"
    }
   ],
   "source": [
    "p_value"
   ]
  },
  {
   "cell_type": "markdown",
   "id": "d21ee3e8-43f5-4498-b537-1858a2224a81",
   "metadata": {},
   "source": [
    "#### If the t-statistic lies outside the quantiles of the t-distribution corresponding to our confidence level and degrees of freedom, we reject the null hypothesis. \n"
   ]
  },
  {
   "cell_type": "code",
   "execution_count": 6,
   "id": "650584b7-031f-49a8-86ec-25b33259202a",
   "metadata": {},
   "outputs": [
    {
     "data": {
      "text/plain": [
       "-2.0095752344892093"
      ]
     },
     "execution_count": 6,
     "metadata": {},
     "output_type": "execute_result"
    }
   ],
   "source": [
    "stats.t.ppf(q = 0.025, df = 49) # q is quantitle and df is degrees of freedom"
   ]
  },
  {
   "cell_type": "code",
   "execution_count": 7,
   "id": "3b23ad05-276b-41df-8113-bde25cc84618",
   "metadata": {},
   "outputs": [
    {
     "data": {
      "text/plain": [
       "2.009575234489209"
      ]
     },
     "execution_count": 7,
     "metadata": {},
     "output_type": "execute_result"
    }
   ],
   "source": [
    "stats.t.ppf(q = 0.975, df = 49)"
   ]
  },
  {
   "cell_type": "code",
   "execution_count": 8,
   "id": "9e44d94c-511d-452b-8166-0ec78d816194",
   "metadata": {},
   "outputs": [
    {
     "data": {
      "text/plain": [
       "0.013121066545690117"
      ]
     },
     "execution_count": 8,
     "metadata": {},
     "output_type": "execute_result"
    }
   ],
   "source": [
    "stats.t.cdf(x= -2.5742,      # T-test statistic\n",
    "               df= 49) * 2   # Multiply by two for two tailed test *\n"
   ]
  },
  {
   "cell_type": "markdown",
   "id": "f6f5b6d8-2b1f-457d-a1c3-ddac294f3414",
   "metadata": {},
   "source": [
    "#### Reject or accept Null Hypothesis - Test stat falls in the CI or the p value is > 0.05"
   ]
  },
  {
   "cell_type": "code",
   "execution_count": 9,
   "id": "393cc6e4-09b2-4846-aa2b-b8b65409fde2",
   "metadata": {},
   "outputs": [
    {
     "data": {
      "text/plain": [
       "(36.369669080722176, 42.15033091927782)"
      ]
     },
     "execution_count": 9,
     "metadata": {},
     "output_type": "execute_result"
    }
   ],
   "source": [
    "sigma = minnesota_ages.std()/math.sqrt(50)  # Sample stdev/sample size\n",
    "\n",
    "stats.t.interval(0.95,                        # Confidence level\n",
    "                 df = 49,                     # Degrees of freedom\n",
    "                 loc = minnesota_ages.mean(), # Sample mean\n",
    "                 scale= sigma)                # Standard dev estimate"
   ]
  },
  {
   "cell_type": "code",
   "execution_count": 10,
   "id": "7dc6500f-40ed-421c-8629-b5244e66772c",
   "metadata": {},
   "outputs": [
    {
     "data": {
      "text/plain": [
       "(35.40547994092107, 43.11452005907893)"
      ]
     },
     "execution_count": 10,
     "metadata": {},
     "output_type": "execute_result"
    }
   ],
   "source": [
    "stats.t.interval(alpha = 0.99,                # Confidence level\n",
    "                 df = 49,                     # Degrees of freedom\n",
    "                 loc = minnesota_ages.mean(), # Sample mean\n",
    "                 scale= sigma)                # Standard dev estimate"
   ]
  },
  {
   "cell_type": "markdown",
   "id": "3fd07e9e-5630-4781-bc8b-50f021cba375",
   "metadata": {},
   "source": [
    "With CI = 95%, the pop mean of 43 in not in the region of acceptance, Hence we reject the NULL hypothesis.\n",
    "With a higher confidence level, we construct a wider confidence interval and increase the chances that it captures to true mean, thus making it less likely that we'll reject the null hypothesis. In this case, the p-value of 0.013 is greater than our significance level of 0.01 and we fail to reject the null hypothesis."
   ]
  },
  {
   "cell_type": "code",
   "execution_count": null,
   "id": "9f706e3d-0b4d-41c4-aae9-34e9d60468d4",
   "metadata": {},
   "outputs": [],
   "source": []
  },
  {
   "cell_type": "markdown",
   "id": "433c51ba-2360-4e52-a87e-1255e45eb875",
   "metadata": {},
   "source": [
    "## Two Sample T test"
   ]
  },
  {
   "cell_type": "markdown",
   "id": "504433ff-7310-4669-bcf7-98cb8b08e32a",
   "metadata": {},
   "source": [
    "A two-sample t-test investigates whether the means of two independent data samples differ from one another. In a two-sample test, the null hypothesis is that the means of both groups are the same. Unlike the one sample-test where we test against a known population parameter, the two sample test only involves sample means. You can conduct a two-sample t-test by passing with the stats.ttest_ind() function."
   ]
  },
  {
   "cell_type": "code",
   "execution_count": 14,
   "id": "b1e5bdfe-0162-4406-950f-ca1d95ef0f80",
   "metadata": {},
   "outputs": [],
   "source": [
    "test_stat, p_value = stats.ttest_ind(a= minnesota_ages,\n",
    "                b= wisconsin_ages,\n",
    "                equal_var=False)    # Assume samples have equal variance?"
   ]
  },
  {
   "cell_type": "code",
   "execution_count": 15,
   "id": "5f6f4c4b-1bda-4b56-b27a-61c81c31a2cf",
   "metadata": {},
   "outputs": [
    {
     "data": {
      "text/plain": [
       "-1.7083870793286842"
      ]
     },
     "execution_count": 15,
     "metadata": {},
     "output_type": "execute_result"
    }
   ],
   "source": [
    "test_stat"
   ]
  },
  {
   "cell_type": "code",
   "execution_count": 16,
   "id": "ea5e304a-858a-4227-a61b-d6841a37c85d",
   "metadata": {},
   "outputs": [
    {
     "data": {
      "text/plain": [
       "0.09073104343957748"
      ]
     },
     "execution_count": 16,
     "metadata": {},
     "output_type": "execute_result"
    }
   ],
   "source": [
    "p_value"
   ]
  },
  {
   "cell_type": "markdown",
   "id": "d7ee26ea-c040-4598-86b0-0b802eed5441",
   "metadata": {},
   "source": [
    "The test yields a p-value of 0.0907, which means there is a 9% chance we'd see sample data this far apart if the two groups tested are actually identical. If we were using a 95% confidence level we would fail to reject the null hypothesis, since the p-value is greater than the corresponding significance level of 5%."
   ]
  },
  {
   "cell_type": "code",
   "execution_count": null,
   "id": "6a5878f2-2490-43ff-8056-1d5f29e5d8f1",
   "metadata": {},
   "outputs": [],
   "source": []
  },
  {
   "cell_type": "markdown",
   "id": "1fd38584-a62d-4219-92bb-b618f07a55ce",
   "metadata": {},
   "source": [
    "## Paired T test"
   ]
  },
  {
   "cell_type": "markdown",
   "id": "b8448114-eccf-4aae-a425-942f322ffaed",
   "metadata": {},
   "source": [
    "The basic two sample t-test is designed for testing differences between independent groups. In case, we want to find differences between samples of the same group at different points in time, we use paired t test.For instance, a hospital might want to test whether a weight-loss drug works by checking the weights of the same group patients before and after treatment. A paired t-test lets you check whether the means of samples from the same group differ.\n",
    "\n",
    "We can conduct a paired t-test using the scipy function stats.ttest_rel()."
   ]
  },
  {
   "cell_type": "raw",
   "id": "e5fe34d4-fca0-4ddf-9d3b-42cab1554132",
   "metadata": {},
   "source": [
    "stats.ttest_rel(a = before,\n",
    "                b = after)"
   ]
  },
  {
   "cell_type": "code",
   "execution_count": null,
   "id": "0d21e48f-8642-40c2-a958-29c46e370c7b",
   "metadata": {},
   "outputs": [],
   "source": []
  }
 ],
 "metadata": {
  "kernelspec": {
   "display_name": "Python 3 (ipykernel)",
   "language": "python",
   "name": "python3"
  },
  "language_info": {
   "codemirror_mode": {
    "name": "ipython",
    "version": 3
   },
   "file_extension": ".py",
   "mimetype": "text/x-python",
   "name": "python",
   "nbconvert_exporter": "python",
   "pygments_lexer": "ipython3",
   "version": "3.9.5"
  }
 },
 "nbformat": 4,
 "nbformat_minor": 5
}
