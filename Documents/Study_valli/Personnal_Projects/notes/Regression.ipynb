{
 "cells": [
  {
   "cell_type": "markdown",
   "id": "48044b8d-e55d-4436-bd6f-94bec2803fff",
   "metadata": {},
   "source": [
    "### Step 1) \n",
    "First plot a scatter plot if the explanatory variables are continuous, a bar or box plot if the explanatory variables are categorical"
   ]
  },
  {
   "cell_type": "code",
   "execution_count": 1,
   "id": "4f401d7a-4bb0-4ddc-8c73-ef3ed945802a",
   "metadata": {},
   "outputs": [
    {
     "data": {
      "text/html": [
       "<img src=\"Pics/corel.png\" width=\"800\" height=\"1000\"/>"
      ],
      "text/plain": [
       "<IPython.core.display.Image object>"
      ]
     },
     "execution_count": 1,
     "metadata": {},
     "output_type": "execute_result"
    }
   ],
   "source": [
    "from IPython.display import Image\n",
    "Image(url= \"Pics/corel.png\", width=800, height=1000)"
   ]
  },
  {
   "cell_type": "markdown",
   "id": "137c4b13-4162-42c8-870d-0e169663dd8f",
   "metadata": {},
   "source": [
    "Correlation gives quantitative measure of how strong the linear relationship between x and y is.\n",
    "\n",
    "Right is not correlated, Middle somewhat, Left is highly correlated"
   ]
  },
  {
   "cell_type": "code",
   "execution_count": 2,
   "id": "5c1475d2-c115-4457-99cd-4c133a2bdf9c",
   "metadata": {},
   "outputs": [
    {
     "data": {
      "text/html": [
       "<img src=\"Pics/corel1.png\" width=\"800\" height=\"1000\"/>"
      ],
      "text/plain": [
       "<IPython.core.display.Image object>"
      ]
     },
     "execution_count": 2,
     "metadata": {},
     "output_type": "execute_result"
    }
   ],
   "source": [
    "Image(url= \"Pics/corel1.png\", width=800, height=1000)"
   ]
  },
  {
   "cell_type": "raw",
   "id": "87e73f20-5cee-4197-a913-7ba295acf36b",
   "metadata": {},
   "source": [
    "# Compute the covariance from the deviations.\n",
    "dx = x - np.mean(x)\n",
    "dy = y - np.mean(y)\n",
    "covariance = np.mean(dx * dy)\n",
    "\n",
    "\n",
    "# Compute the correlation from the normalized deviations.\n",
    "zx = dx / np.std(x)\n",
    "zy = dy / np.std(y)\n",
    "correlation = np.mean(zx * zy)\n",
    "\n"
   ]
  },
  {
   "cell_type": "markdown",
   "id": "3ee7dbe5-9c88-4a9f-9792-724178f6a052",
   "metadata": {},
   "source": [
    "y = mx+c\n",
    "\n",
    "Slope m gives the average amount by which the dependent variable changes with the independent variable.\n",
    "The y intercept or the constant is often defined as the mean of the dependent variable when you set all of the independent variables in your model to zero."
   ]
  },
  {
   "cell_type": "markdown",
   "id": "24de7171-0fb0-438c-955e-19f1c884495a",
   "metadata": {},
   "source": [
    "The suqares of the residuals should be minimized."
   ]
  },
  {
   "cell_type": "markdown",
   "id": "50e1e411-2202-407b-86c2-6eba9475dfeb",
   "metadata": {},
   "source": [
    "RSS - Residual Squared and Summed - should be minimised\n",
    "\n",
    "residual = yactual - ypred"
   ]
  },
  {
   "cell_type": "code",
   "execution_count": null,
   "id": "4f695461-3ac1-4607-82c9-e56671e94e75",
   "metadata": {},
   "outputs": [],
   "source": [
    "Least Squares optimized - "
   ]
  },
  {
   "cell_type": "code",
   "execution_count": null,
   "id": "703c51ad-2f16-464d-94aa-8b4eb448b0a9",
   "metadata": {},
   "outputs": [],
   "source": []
  }
 ],
 "metadata": {
  "kernelspec": {
   "display_name": "Python 3 (ipykernel)",
   "language": "python",
   "name": "python3"
  },
  "language_info": {
   "codemirror_mode": {
    "name": "ipython",
    "version": 3
   },
   "file_extension": ".py",
   "mimetype": "text/x-python",
   "name": "python",
   "nbconvert_exporter": "python",
   "pygments_lexer": "ipython3",
   "version": "3.9.5"
  }
 },
 "nbformat": 4,
 "nbformat_minor": 5
}
