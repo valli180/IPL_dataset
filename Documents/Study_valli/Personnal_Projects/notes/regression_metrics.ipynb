{
 "cells": [
  {
   "cell_type": "markdown",
   "id": "7369efd9-3673-4c85-8e13-072af7e0680e",
   "metadata": {},
   "source": [
    "## Finding column names of transformed data\n"
   ]
  },
  {
   "cell_type": "raw",
   "id": "4d4f0c1d-dac1-46cc-8944-3cbf52a701f4",
   "metadata": {},
   "source": [
    "numeric_transformer = make_pipeline(SimpleImputer(strategy=\"median\"), StandardScaler())\n",
    "ordinal_transformer_reg = make_pipeline(\n",
    "    SimpleImputer(strategy=\"most_frequent\"),\n",
    "    OrdinalEncoder(categories=ordering_ordinal_reg),\n",
    ")\n",
    "\n",
    "ordinal_transformer_oth = make_pipeline(\n",
    "    SimpleImputer(strategy=\"most_frequent\"),\n",
    "    OrdinalEncoder(categories=ordering_ordinal_oth),\n",
    ")\n",
    "\n",
    "categorical_transformer = make_pipeline(\n",
    "    SimpleImputer(strategy=\"constant\", fill_value=\"missing\"),\n",
    "    OneHotEncoder(handle_unknown=\"ignore\", sparse=False),\n",
    ")\n",
    "\n",
    "preprocessor = make_column_transformer(\n",
    "    (\"drop\", drop_features),\n",
    "    (numeric_transformer, numeric_features),\n",
    "    (ordinal_transformer_reg, ordinal_features_reg),\n",
    "    (ordinal_transformer_oth, ordinal_features_oth),\n",
    "    (categorical_transformer, categorical_features),\n",
    ")"
   ]
  },
  {
   "cell_type": "raw",
   "id": "513d1ade-d8b0-4819-b7dd-44cbc7fe5443",
   "metadata": {},
   "source": [
    "preprocessor.fit(X_train)  # Calling fit to examine all the transformers.\n",
    "preprocessor.named_transformers_"
   ]
  },
  {
   "cell_type": "raw",
   "id": "8ba03b5b-2de2-4f39-89d1-35111edc0ed6",
   "metadata": {},
   "source": [
    "ohe_columns = list(\n",
    "    preprocessor.named_transformers_[\"pipeline-4\"]\n",
    "    .named_steps[\"onehotencoder\"]\n",
    "    .get_feature_names(categorical_features)\n",
    ")\n",
    "new_columns = (\n",
    "    numeric_features + ordinal_features_reg + ordinal_features_oth + ohe_columns\n",
    ")"
   ]
  },
  {
   "cell_type": "raw",
   "id": "a3f92091-8995-4b07-9ca7-a210fc041296",
   "metadata": {},
   "source": [
    "X_train_enc = pd.DataFrame(\n",
    "    preprocessor.transform(X_train), index=X_train.index, columns=new_columns\n",
    ")\n",
    "X_train_enc.head()"
   ]
  },
  {
   "cell_type": "markdown",
   "id": "a688737a-f56c-4b70-aae1-0da8d626a7fe",
   "metadata": {},
   "source": [
    "The above codes give the transformed data along with the names of the new columns."
   ]
  },
  {
   "cell_type": "code",
   "execution_count": null,
   "id": "e46293f4-155f-4184-a108-a5c4c6a1ad91",
   "metadata": {},
   "outputs": [],
   "source": []
  },
  {
   "cell_type": "markdown",
   "id": "baaf6edc-f971-4a39-8116-bf1881e73d7f",
   "metadata": {},
   "source": [
    "## Coefficients of regression model"
   ]
  },
  {
   "cell_type": "raw",
   "id": "830fdf06-d349-440e-9138-c0c988416622",
   "metadata": {},
   "source": [
    "lr = make_pipeline(preprocessor, Ridge())\n",
    "\n",
    "lr.fit(X_train, y_train)\n",
    "\n",
    "lr_preds = lr.predict(X_test)\n",
    "\n",
    "print(\"Smallest coefficient: \", lr.named_steps[\"ridge\"].coef_.min())\n",
    "\n",
    "print(\"Largest coefficient:\", lr.named_steps[\"ridge\"].coef_.max())\n"
   ]
  },
  {
   "cell_type": "raw",
   "id": "c9f4b968-d5fe-4d8d-8c0c-1e44f8112a8f",
   "metadata": {},
   "source": [
    "ohe_columns = list(\n",
    "    preprocessor.named_transformers_[\"pipeline-4\"]\n",
    "    .named_steps[\"onehotencoder\"]\n",
    "    .get_feature_names(categorical_features)\n",
    ")\n",
    "ohe_columns"
   ]
  },
  {
   "cell_type": "raw",
   "id": "cd6ec0d2-b90e-4da8-bf53-fa35620ea4b2",
   "metadata": {},
   "source": [
    "new_columns = (\n",
    "    numeric_features + ordinal_features_reg + ordinal_features_oth + ohe_columns\n",
    ")"
   ]
  },
  {
   "cell_type": "markdown",
   "id": "7f86e0d2-d5e3-48ce-80e4-28afd9189b74",
   "metadata": {},
   "source": [
    "## Dataframe with coefficients and their names"
   ]
  },
  {
   "cell_type": "raw",
   "id": "df631062-a928-44a5-87f9-ed4aa06d079d",
   "metadata": {},
   "source": [
    "pipe_bigalpha = make_pipeline(preprocessor, Ridge(alpha=1000))\n",
    "\n",
    "pipe_bigalpha.fit(X_train, y_train)\n",
    "\n",
    "bigalpha_coeffs = pipe_bigalpha.named_steps[\"ridge\"].coef_\n",
    "\n",
    "pd.DataFrame(\n",
    "    data=bigalpha_coeffs, index=new_columns, columns=[\"Coefficients\"]\n",
    ").sort_values(by=\"Coefficients\", ascending=False)"
   ]
  },
  {
   "cell_type": "code",
   "execution_count": null,
   "id": "654e5258-2b82-4f63-a1c4-b1c3f2e368b4",
   "metadata": {},
   "outputs": [],
   "source": []
  },
  {
   "cell_type": "markdown",
   "id": "a0bc6ca6-3043-4e0c-8d8e-52b71ffdbf85",
   "metadata": {},
   "source": [
    "# A number of popular scoring functions for regression. We are going to look at some common metrics:\n",
    "\n",
    "- mean squared error (MSE)\n",
    "- $R^2$\n",
    "- root mean squared error (RMSE)\n",
    "- MAPE"
   ]
  },
  {
   "cell_type": "markdown",
   "id": "63a71e5d-7880-41b4-ad4f-ac4d059dc9d4",
   "metadata": {},
   "source": [
    "### MSE\n",
    "<u>from sklearn.metrics import mean_squared_error"
   ]
  },
  {
   "cell_type": "raw",
   "id": "6962d18a-61f0-4eac-94b7-ee7a934164aa",
   "metadata": {},
   "source": [
    "mean_squared_error(y_train, preds)"
   ]
  },
  {
   "cell_type": "markdown",
   "id": "a69f4963-a995-4095-ab33-bb2c92e30d5f",
   "metadata": {},
   "source": [
    "### RSME\n",
    "\n",
    "np.sqrt(mean_squared_error(y_train, ridge_tuned.predict(X_train)))"
   ]
  },
  {
   "cell_type": "markdown",
   "id": "e6518837-5647-4020-9e1b-cc24b88a04b9",
   "metadata": {},
   "source": [
    "$R^2$ is the default scoring metrics used when score is called.\n",
    "\n",
    "- The maximum is 1 for perfect predictions\n",
    "- Negative values are very bad: \"worse than DummyRegressor\" (very bad)\n",
    "- MSE is reversible , that is mse(y_pred, y_test) = mse(y_test, y_pred) but not $R^2$\n",
    "\n",
    "When you call fit it minimizes MSE / maximizes $R^2$ (or something like that) by default "
   ]
  },
  {
   "cell_type": "raw",
   "id": "c7800318-f15c-4c11-bf3b-9e392d6a75d4",
   "metadata": {},
   "source": [
    "ridge_tuned = make_pipeline(preprocessor, Ridge())"
   ]
  },
  {
   "cell_type": "raw",
   "id": "15a54fe6-19ad-472f-9eab-0ac6db7e4d79",
   "metadata": {},
   "source": [
    "scoring = {\n",
    "    \"r2\": \"r2\",\n",
    "    \"mape_scorer\": mape_scorer,\n",
    "    \"neg_root_mean_square_error\": \"neg_root_mean_squared_error\",\n",
    "    \"neg_mean_squared_error\": \"neg_mean_squared_error\",\n",
    "}\n",
    "\n",
    "pd.DataFrame(\n",
    "    cross_validate(\n",
    "        ridge_tuned, X_train, y_train, return_train_score=True, scoring=scoring\n",
    "    ) \n",
    ").T"
   ]
  },
  {
   "cell_type": "raw",
   "id": "e6c45b6d-a3cf-4913-84d6-7534ae72e2fb",
   "metadata": {},
   "source": [
    "param_grid = {\"ridge__alpha\": 10.0 ** np.arange(-6, 6, 1)}\n",
    "\n",
    "pipe_ridge = make_pipeline(preprocessor, Ridge())\n",
    "\n",
    "search = GridSearchCV(\n",
    "    pipe_ridge, param_grid, return_train_score=True, n_jobs=-1, scoring=mape_scorer \n",
    ") #we can use scoring = soring-multi metrics also\n",
    "search.fit(X_train, y_train);"
   ]
  },
  {
   "cell_type": "raw",
   "id": "79339a2a-a216-4240-a11d-a57e4af86417",
   "metadata": {},
   "source": [
    "print(\"Best hyperparameter values: \", search.best_params_)\n",
    "print(\"Best score: %0.3f\" % (search.best_score_))\n",
    "pd.DataFrame(search.cv_results_)[\n",
    "    [\n",
    "        \"mean_train_score\",\n",
    "        \"mean_test_score\",\n",
    "        \"param_ridge__alpha\",\n",
    "        \"mean_fit_time\",\n",
    "        \"rank_test_score\",\n",
    "    ]\n",
    "].set_index(\"rank_test_score\").sort_index().T"
   ]
  },
  {
   "cell_type": "markdown",
   "id": "1d647efc-7593-416f-b738-a4d3e11d789d",
   "metadata": {},
   "source": [
    "Scoring metrics\n",
    "- $R^2$ is the default .score(), it is unitless, 0 is bad, 1 is best\n",
    "- MSE (mean squared error) is in units of target squared, hard to interpret; 0 is best\n",
    "- RMSE (root mean squared error) is in the same units as the target; 0 is best\n",
    "- MAPE (mean average percent error) is unitless; 0 is best, 100 is bad"
   ]
  },
  {
   "cell_type": "code",
   "execution_count": null,
   "id": "c24c6bae-50ed-4f6b-86f0-667fd60048d2",
   "metadata": {},
   "outputs": [],
   "source": []
  }
 ],
 "metadata": {
  "kernelspec": {
   "display_name": "Python [conda env:573]",
   "language": "python",
   "name": "conda-env-573-py"
  },
  "language_info": {
   "codemirror_mode": {
    "name": "ipython",
    "version": 3
   },
   "file_extension": ".py",
   "mimetype": "text/x-python",
   "name": "python",
   "nbconvert_exporter": "python",
   "pygments_lexer": "ipython3",
   "version": "3.9.7"
  }
 },
 "nbformat": 4,
 "nbformat_minor": 5
}
