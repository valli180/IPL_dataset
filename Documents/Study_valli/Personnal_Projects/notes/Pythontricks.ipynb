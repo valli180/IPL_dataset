{
 "cells": [
  {
   "cell_type": "markdown",
   "id": "2e304ef4-c59d-490e-93d0-a3af954f1689",
   "metadata": {},
   "source": [
    "#### 1) We can obtain numpy arrays from a col of df as follows:\n"
   ]
  },
  {
   "cell_type": "raw",
   "id": "836abd81-e100-49cc-9ead-9101d6111027",
   "metadata": {},
   "source": [
    "val = df[\"col_name\"].values"
   ]
  },
  {
   "cell_type": "code",
   "execution_count": null,
   "id": "03e16a52-dff6-4e25-9fdd-a311f9e40050",
   "metadata": {},
   "outputs": [],
   "source": []
  },
  {
   "cell_type": "code",
   "execution_count": null,
   "id": "45d36f5c-4e10-48e8-b95d-bce26b403256",
   "metadata": {},
   "outputs": [],
   "source": []
  },
  {
   "cell_type": "code",
   "execution_count": null,
   "id": "7b5d18ca-7725-40fd-8ceb-54b517ce398f",
   "metadata": {},
   "outputs": [],
   "source": []
  },
  {
   "cell_type": "code",
   "execution_count": null,
   "id": "83531250-fde5-4ff5-8f7f-ab6eb780273e",
   "metadata": {},
   "outputs": [],
   "source": []
  },
  {
   "cell_type": "code",
   "execution_count": null,
   "id": "d832f5d0-fd7b-4ed7-8dbb-47b0cdd1da5d",
   "metadata": {},
   "outputs": [],
   "source": []
  }
 ],
 "metadata": {
  "kernelspec": {
   "display_name": "Python 3 (ipykernel)",
   "language": "python",
   "name": "python3"
  },
  "language_info": {
   "codemirror_mode": {
    "name": "ipython",
    "version": 3
   },
   "file_extension": ".py",
   "mimetype": "text/x-python",
   "name": "python",
   "nbconvert_exporter": "python",
   "pygments_lexer": "ipython3",
   "version": "3.9.5"
  }
 },
 "nbformat": 4,
 "nbformat_minor": 5
}
