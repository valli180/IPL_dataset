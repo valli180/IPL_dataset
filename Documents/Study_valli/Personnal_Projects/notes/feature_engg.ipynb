{
 "cells": [
  {
   "cell_type": "markdown",
   "id": "10de6b8b-39de-4e39-9582-035de583137b",
   "metadata": {},
   "source": [
    "## Feature Engineering"
   ]
  },
  {
   "cell_type": "markdown",
   "id": "daad6f54-2c4d-4fef-9665-4b5d34b5479c",
   "metadata": {},
   "source": [
    "One way to get a better performing model is by hyperparameter tuning.\n",
    "- Another way is by changing the input representation.\n",
    "- Better representation: more flexibility, higher score, we can get by with simple and more interpretable models.\n",
    "- If the features, i.e., representation is bad, whatever fancier model build is not going to help.\n"
   ]
  },
  {
   "cell_type": "markdown",
   "id": "869beb2a-8b32-487c-9556-11aaf46f726b",
   "metadata": {},
   "source": [
    "There is a trade-off between simple and expressive features:\n",
    "\n",
    "- With simple features overfitting risk is low, but scores might be low.\n",
    "- With complicated features scores can be high, but so is overfitting risk._"
   ]
  },
  {
   "cell_type": "raw",
   "id": "e75f891b-5580-46f2-bd37-e08192f14c68",
   "metadata": {},
   "source": [
    "degree = 20\n",
    "\n",
    "pipe_poly = make_pipeline(PolynomialFeatures(degree=degree), LinearRegression())\n",
    "pipe_poly.fit(X, y)\n",
    "\n",
    "preds = pipe_poly.predict(X)\n",
    "\n",
    "mglearn.discrete_scatter(X[:, 0], y)\n",
    "plt.plot(X, preds, color=\"green\", linewidth=3)"
   ]
  },
  {
   "cell_type": "raw",
   "id": "4e900906-2637-4f6b-b91f-f36443d6d9af",
   "metadata": {},
   "source": [
    "As the degree increases, chance of overfitting because model becomes complex."
   ]
  },
  {
   "cell_type": "raw",
   "id": "3ed40ac6-7a0e-4a0b-a110-4ef6905ada37",
   "metadata": {},
   "source": [
    "pd.DataFrame(\n",
    "    pipe_poly.named_steps[\"linearregression\"].coef_.transpose(),\n",
    "    index=pipe_poly.named_steps[\"polynomialfeatures\"].get_feature_names_out(),\n",
    "    columns=[\"Feature coefficients\"],\n",
    ")"
   ]
  },
  {
   "cell_type": "code",
   "execution_count": null,
   "id": "b484cc1f-e790-4b78-bce6-3991a680a277",
   "metadata": {},
   "outputs": [],
   "source": []
  }
 ],
 "metadata": {
  "kernelspec": {
   "display_name": "Python 3 (ipykernel)",
   "language": "python",
   "name": "python3"
  },
  "language_info": {
   "codemirror_mode": {
    "name": "ipython",
    "version": 3
   },
   "file_extension": ".py",
   "mimetype": "text/x-python",
   "name": "python",
   "nbconvert_exporter": "python",
   "pygments_lexer": "ipython3",
   "version": "3.9.5"
  }
 },
 "nbformat": 4,
 "nbformat_minor": 5
}
