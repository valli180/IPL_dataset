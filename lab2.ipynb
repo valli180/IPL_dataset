{
 "cells": [
  {
   "cell_type": "code",
   "execution_count": 1,
   "metadata": {
    "deletable": false,
    "editable": false
   },
   "outputs": [],
   "source": [
    "# Initialize Otter\n",
    "import otter\n",
    "grader = otter.Notebook(\"lab2.ipynb\")"
   ]
  },
  {
   "cell_type": "markdown",
   "metadata": {},
   "source": [
    "# Lab 2: Branches and merge conflicts"
   ]
  },
  {
   "cell_type": "markdown",
   "metadata": {},
   "source": [
    "In lab 2,\n",
    "you will practice your Git skills\n",
    "by getting hands-on experience of how to create branches\n",
    "and resolve merge conflicts.\n",
    "You will also practice using the Markdown syntax for formatting text,\n",
    "and you can [reference this guide](https://guides.github.com/features/mastering-markdown/) if you're unsure about the Markdown syntax.\n",
    "Note that you're required to use Git from terminal most of the time in this lab\n",
    "as there are steps that you cannot resolve via the JupyterLab git client\n",
    "(you can of course still use the history view in VS Code to help you out).\n",
    "\n",
    "The questions in this lab build upon each other,\n",
    "so you will not be able to solve the ones in the end if you can't solve the ones in the beginning .\n",
    "Therefore,\n",
    "it is **especially important** that you start early so that you have time to solve any problems that might arise.\n",
    "If you run into an error and can't solve a question practically,\n",
    "you are allowed to write a description of what you **would** have done for partial credit (max half the total marks of the question).\n",
    "\n",
    "For all commits in this lab,\n",
    "please provide a *a short descriptive message*,\n",
    "which completes the sentence \"this commit will...\"\n",
    "and starts with a capital letter.\n",
    "\n",
    "- Bad messages:\n",
    "    - fixes an error\n",
    "    - added new code\n",
    "- Good messages:\n",
    "    - Fix an error in the notebook export\n",
    "    - Make the README more welcoming"
   ]
  },
  {
   "cell_type": "markdown",
   "metadata": {},
   "source": [
    "<div class=\"alert alert-info\" style=\"color:black\">\n",
    "\n",
    "### Submission Instructions\n",
    "rubric={mechanics:2}\n",
    " \n",
    "<br> You receive mark for submitting your lab correctly, please follow these instructions: <br>    \n",
    "\n",
    "- [Follow the general lab instructions](https://ubc-mds.github.io/resources_pages/general_lab_instructions/).<br>\n",
    "- [Click here to view a description of the rubrics used to grade the questions](https://github.com/UBC-MDS/public/tree/master/rubric).\n",
    "- Push your `.ipynb` file to your GitHub repository for this lab.<br>\n",
    "- Submit your `.ipynb` file to Gradescope.\n",
    "- Include a clickable link to your GitHub repo for the lab just below this cell (it should look something like this https://github.ubc.ca/MDS-2021-22/DSCI_521_labX_yourcwl. \n",
    "\n",
    "</div>"
   ]
  },
  {
   "cell_type": "markdown",
   "metadata": {},
   "source": [
    "YOUR LAB GITHUB REPO LINK GOES HERE "
   ]
  },
  {
   "cell_type": "markdown",
   "metadata": {},
   "source": [
    "<!-- BEGIN QUESTION -->\n",
    "\n",
    "<div class=\"alert alert-info\" style=\"color:black\">\n",
    "\n",
    "### Question 1\n",
    "rubric={reasoning:2}\n",
    "\n",
    "<br>Create a new public repository on github.ubc.ca named `521-lab2` that includes a README and the following description: \"Learning about git\".<br>\n",
    "\n",
    "- \"public\" in this case means that it will be visible to any member of github.ubc.ca, but not the entire world.<br>\n",
    "- Note that the repo will be under `your-cwl/521-lab2` rather than `MDS-2021-22/521-lab2`, so it is OK that you all use the same basename for the repo.<br>\n",
    "- Include a clickable link to your personal GitHub.ubc.ca repo just under this cell, the grading TA will check the repo you have linked.\n",
    "    \n",
    "</div>"
   ]
  },
  {
   "cell_type": "markdown",
   "metadata": {},
   "source": [
    "https://github.ubc.ca/cxh0210/521-lab2"
   ]
  },
  {
   "cell_type": "markdown",
   "metadata": {},
   "source": [
    "<!-- END QUESTION -->\n",
    "\n",
    "<!-- BEGIN QUESTION -->\n",
    "\n",
    "<div class=\"alert alert-info\" style=\"color:black\">\n",
    "\n",
    "### Question 2\n",
    "rubric={reasoning:4.5}\n",
    "    \n",
    "<br>For this question,\n",
    "you will clone the repo and create a few commits before displaying the repo's commit history.<br>\n",
    "\n",
    "1. Clone the GitHub repo that you just created to your local machine.<br>\n",
    "2. Open the README.md file and change the first level heading to \"Welcome to my first GitHub repo!\" and commit it.<br>\n",
    "   - Read the guidelines in the first cell about commit messages to ensure that you get full marks.<br>\n",
    "3. Add a blank line below the description in the README\n",
    "   and then under that add a sentence mentioning your favorite\n",
    "   and least favorite parts about Git and GitHub so far,\n",
    "   and commit it.<br>\n",
    "4. Display your full commit log (should be three commits now, the initial one + your two) with *one line* per commit plus the *parts*/*patches* of changed code visible.<br>\n",
    "    - Hint: You will need to use a total of two optional argument (also called flags) to display the log in the correct format.\n",
    "      Watch the lecture or read the git help/man pages to remember which these are.<br>\n",
    "5. Copy both the log command that you ran and its output and paste it in your solution below as a fenced code block\n",
    "   (check out the Markdown link in the first cell if you don't remember what this is)\n",
    "   with the `diff` language tag for syntax highlighting.<br>\n",
    "   - Even if you can't figure out how to display and post your code in the correct format,\n",
    "     paste what you have below to receive marks for tasks 1-3 in this question.\n",
    "    \n",
    "</div>"
   ]
  },
  {
   "cell_type": "markdown",
   "metadata": {},
   "source": [
    "```diff\n",
    "$ git log --oneline\n",
    "962b259 (HEAD -> master) Add my preferences to README\n",
    "f5a348e Change README's heading\n",
    "35c0c56 (origin/master, origin/HEAD) Initial commit\n",
    "\n",
    "(base)\n",
    "Anthea@DESKTOP-RNEQFL7 MINGW64 /c/users/anthea/desktop/ubc/521/521-lab2 (master)\n",
    "$ git log -p\n",
    "commit 962b25936538d22857f678ebffd5a6e6f6bc924e (HEAD -> master)\n",
    "Author: cxh0210 <cxhanthea@126.com>\n",
    "Date:   Mon Sep 13 12:30:35 2021 -0700\n",
    "\n",
    "    Add my preferences to README\n",
    "\n",
    "diff --git a/README.md b/README.md\n",
    "index 1bd1010..dcd2a08 100644\n",
    "--- a/README.md\n",
    "+++ b/README.md\n",
    "@@ -1,2 +1,4 @@\n",
    " # Welcome to my first GitHub repo!\n",
    " Learning about git\n",
    "+\n",
    "+My favourite part about Git is that it helps people work together through version control, and my least favourite part is that sometimes the instructions can be a bit complicated.\n",
    "\\ No newline at end of file\n",
    "\n",
    "commit f5a348e9b94b94f9a5a9f71e637c118d50bd0eff\n",
    "Author: cxh0210 <cxhanthea@126.com>\n",
    "Date:   Mon Sep 13 12:29:17 2021 -0700\n",
    "\n",
    "    Change README's heading\n",
    "\n",
    "diff --git a/README.md b/README.md\n",
    "index 792d879..1bd1010 100644\n",
    "--- a/README.md\n",
    "+++ b/README.md\n",
    "@@ -1,2 +1,2 @@\n",
    ":\n",
    "```"
   ]
  },
  {
   "cell_type": "markdown",
   "metadata": {},
   "source": [
    "<!-- END QUESTION -->\n",
    "\n",
    "<!-- BEGIN QUESTION -->\n",
    "\n",
    "<div class=\"alert alert-info\" style=\"color:black\">\n",
    "    \n",
    "### Question 3\n",
    "rubric={reasoning:4.5}\n",
    "    \n",
    "<br>You are now going to practice how to create a branch with a new feature,\n",
    "and then merge it into your master branch via a pull request.\n",
    "For the steps listed in the answer cell below,\n",
    "include the commands your ran for the respective task\n",
    "as well as a link to the merged PR.<br>\n",
    "\n",
    "1. Push your changes from the previous question and double check that they are uploaded to your GitHub repo.<br>\n",
    "2. Create a new branch named `feature-1` and switch to it.<br>\n",
    "3. On the `feature-1` branch, create a new file called `DONT-README.md` and add the line \"I asked you not to!\".<br>\n",
    "4. Commit this on the `feature-1` branch.<br>\n",
    "5. Push the `feature-1` branch to GitHub.<br>\n",
    "    - Try pushing as you do usually and\n",
    "      git will give you a helpful hint for how to create a remote branch with the same as your local branch.\n",
    "6. Navigate to your repo online (`your-cwl/521-lab2`) and create a pull request from this new branch onto your master branch.<br>\n",
    "    - Note that we could instead have merged this branch locally,\n",
    "    but here we are practicing how to make a pull request\n",
    "    and also setting up for question 4.\n",
    "7. Merge your pull request, but do **not** pull it back to your own laptop yet.\n",
    "    \n",
    "</div>"
   ]
  },
  {
   "cell_type": "markdown",
   "metadata": {},
   "source": [
    "YOUR ANSWER GOES IN THIS CELL\n",
    "\n",
    "Include the commands you ran for the following tasks:\n",
    "\n",
    "1.$ git push\n",
    "\n",
    "2.$ git switch -c feature-1\n",
    "\n",
    "4.$ git commit -m\"Create DONT-README.md\"\n",
    "\n",
    "5.$ git push --set-upstream origin feature-1\n",
    "\n",
    "PR link：https://github.ubc.ca/cxh0210/521-lab2/pull/1\n",
    "\n",
    "Include a clickable link to your merged PR so that we can assess task 3, 6, and 7 (else you can't get any points for these =/)."
   ]
  },
  {
   "cell_type": "markdown",
   "metadata": {},
   "source": [
    "<!-- END QUESTION -->\n",
    "\n",
    "<!-- BEGIN QUESTION -->\n",
    "\n",
    "<div class=\"alert alert-info\" style=\"color:black\">\n",
    "    \n",
    "### Question 4\n",
    "rubric={reasoning:4.5}\n",
    "\n",
    "<br>You will now run into a merge conflict and you WILL solve it!\n",
    "Take three deep breaths and then let's go! ðŸ’ª<br>\n",
    "\n",
    "1. Switch to the repo's master branch.<br>\n",
    "2. Create a new file with the same name as before `DONT-README.md`,\n",
    "   but add a different line this time: \"Oh oh, I can see where this is going...\".<br>\n",
    "3. Commit your changes to the master branch.<br>\n",
    "4. Try to push your master branch to GitHub... Oh no! What did you do???<br>\n",
    "   - Your remote is ahead because you have the new commit from your merged PR on the master branch on GitHub.<br>\n",
    "   - This means you must pull first, but there will be a conflict.<br>\n",
    "5. Complete the steps necessary to resolve this merge conflict locally\n",
    "   and keep the line from GitHub (\"I told you not to\").<br>\n",
    "6. **You did it**!!! ðŸ™Œ As a celebration, open your `README.md`, add a blank line,\n",
    "    and under that line add this GIF URL using the Markdown image reference syntax (so that the GIF image appears when viewing the README on GitHub) `https://media.giphy.com/media/jtirFYtVwG5a0o1t9o/giphy.gif`\n",
    "    and commit it.<br>\n",
    "    - Feel free to replace this URL with a celebration GIF of your choice if you're feeling creative =)<br>\n",
    "7. Push your master branch to GitHub and confirm that it looks like you expect online,\n",
    "   the gif should play in the readme file on your repo's landing page.\n",
    "    \n",
    "</div>"
   ]
  },
  {
   "cell_type": "markdown",
   "metadata": {},
   "source": [
    "Include the commands you ran for the following tasks:\n",
    "\n",
    "1.$ git switch master\n",
    "\n",
    "3.$ git commit -m\"Create DONT-README.md on master branch\"\n",
    "\n",
    "For 5, describe what you did in words as well as include all commands you ran.\n",
    "\n",
    "First, I used ```$ git pull ```to pull the remote repo to the local\n",
    "Then, I used ```$ code DONT-README.md``` to open the file in VS code, and chose the accept incoming one to keep the \"I asked you not to\" line\n",
    "Finally, I saved my change, and used```$ git add DONT-README.md``` and ```$ git commit -m\"Create DONT-README.md on master branch\"``` and ``` $git push```, to sovle the conflict and push the file to the remote repo\n",
    "\n",
    "7.\n",
    "$ git add README.md\n",
    "\n",
    "$ git commit -m\"Add a gif and fix the error\"\n",
    "\n",
    "$ git push"
   ]
  },
  {
   "cell_type": "markdown",
   "metadata": {},
   "source": [
    "<!-- END QUESTION -->\n",
    "\n",
    "<!-- BEGIN QUESTION -->\n",
    "\n",
    "<div class=\"alert alert-info\" style=\"color:black\">\n",
    "    \n",
    "### Question 5\n",
    "rubric={reasoning:4}\n",
    "\n",
    "<br>The worst is over.\n",
    "Here you will create a fork of a GitHub repo I have created\n",
    "and then send a PR back to my repo with your changes.\n",
    "You will practice using Markdown syntax to format your text\n",
    "(remember to [reference this guide](https://guides.github.com/features/mastering-markdown/)).<br>\n",
    "\n",
    "1. Fork my repo here https://github.ubc.ca/fdandrea/521-lab2-feedback <br>\n",
    "2. Clone **your fork** to your laptop <br>\n",
    "3. Create a new branch called `feedback-yourcwl` (substituting in your actual cwl)<br>\n",
    "4. Create a new file called `feedback-yourcwl.md` (substituting in your actual cwl)<br>\n",
    "5. Add a first level heading called \"My interests\" and a bullet points with topics you want to learn in the Master of Data Science and commit it.<br>\n",
    "6. At the end of the file, insert a quote of your liking using Markdown quotation syntax and commit it.<br>\n",
    "7. End by inserting the line \"I am done with 521-lab2\" as a single item Markdown task list that is checked, and then commit your change.<br>\n",
    "8. Push your changes to **your fork** (the default push location).<br>\n",
    "9. Go to **my repo** (not your fork) and open a PR from your fork to my repo.\n",
    "   Copy the URL to the PR and paste it below.\n",
    "    \n",
    "After this you're ALL done with the lab, **GREAT** job!\n",
    "    \n",
    "</div>"
   ]
  },
  {
   "cell_type": "markdown",
   "metadata": {},
   "source": [
    "https://github.ubc.ca/fdandrea/521-lab2-feedback/pull/8\n",
    "\n",
    "This question will be graded via the link to the PR so please paste that here."
   ]
  },
  {
   "cell_type": "markdown",
   "metadata": {},
   "source": [
    "<!-- END QUESTION -->\n",
    "\n",
    "<!-- BEGIN QUESTION -->\n",
    "\n",
    "<div class=\"alert alert-info\" style=\"color:black\">\n",
    "    \n",
    "### (Optional) Question 6\n",
    "rubric={reasoning:0.5}\n",
    "    \n",
    "Find the correct optional arguments to `git log` to display your complete repo history and a graph over how your branches were created and merged. The output should look similar to the below, answer with both the command and your output. \n",
    "\n",
    "\n",
    "```\n",
    "* efbd167 (HEAD -> master, origin/master, origin/HEAD) Add celebration gif\n",
    "*   09b3bcf Conquer merge conflict\n",
    "|\\\n",
    "| *   2bba8e9 Merge pull request #1 from jostblom/feature-1\n",
    "| |\\\n",
    "| | * 88cf779 (origin/feature-1, feature-1) Discourage reading me\n",
    "| |/\n",
    "* / d83a712 Screw myself over by not pulling before committing\n",
    "|/\n",
    "* 2b7366e Describe what I like and do not like about git\n",
    "* a97afea Make the README more welcoming\n",
    "* 476dc82 Initial commit\n",
    "```\n",
    "\n",
    "</div>"
   ]
  },
  {
   "cell_type": "markdown",
   "metadata": {},
   "source": [
    "```\n",
    "$ git log --oneline --all --graph\n",
    "* fec4fe5 (HEAD -> master, origin/master, origin/HEAD) Add a gif and fix the error\n",
    "* a78d287 Add a gif in README\n",
    "*   7c66f38 Create DONT-README.md on master branch\n",
    "|\\\n",
    "| *   ff956e4 Merge pull request #1 from cxh0210/feature-1\n",
    "| |\\\n",
    "| | * e21d9f7 (origin/feature-1, feature-1) Create DONT-README.md\n",
    "| |/\n",
    "* / ae0cab9 Create DONT-README.md on master branch\n",
    "|/\n",
    "* 962b259 Add my preferences to README\n",
    "* f5a348e Change README's heading\n",
    "* 35c0c56 Initial commit\n",
    "```"
   ]
  },
  {
   "cell_type": "code",
   "execution_count": 4,
   "metadata": {
    "deletable": false,
    "editable": false
   },
   "outputs": [
    {
     "ename": "UnicodeDecodeError",
     "evalue": "'gbk' codec can't decode byte 0xaa in position 10340: illegal multibyte sequence",
     "output_type": "error",
     "traceback": [
      "\u001b[1;31m---------------------------------------------------------------------------\u001b[0m",
      "\u001b[1;31mUnicodeDecodeError\u001b[0m                        Traceback (most recent call last)",
      "\u001b[1;32m~\\AppData\\Local\\Temp/ipykernel_16116/3304362557.py\u001b[0m in \u001b[0;36m<module>\u001b[1;34m\u001b[0m\n\u001b[1;32m----> 1\u001b[1;33m \u001b[0mgrader\u001b[0m\u001b[1;33m.\u001b[0m\u001b[0mcheck\u001b[0m\u001b[1;33m(\u001b[0m\u001b[1;34m\"q6\"\u001b[0m\u001b[1;33m)\u001b[0m\u001b[1;33m\u001b[0m\u001b[1;33m\u001b[0m\u001b[0m\n\u001b[0m",
      "\u001b[1;32m~\\miniconda3\\lib\\site-packages\\otter\\check\\utils.py\u001b[0m in \u001b[0;36mrun_function\u001b[1;34m(self, *args, **kwargs)\u001b[0m\n\u001b[0;32m    130\u001b[0m                 \u001b[1;32mexcept\u001b[0m \u001b[0mException\u001b[0m \u001b[1;32mas\u001b[0m \u001b[0me\u001b[0m\u001b[1;33m:\u001b[0m\u001b[1;33m\u001b[0m\u001b[1;33m\u001b[0m\u001b[0m\n\u001b[0;32m    131\u001b[0m                     \u001b[0mself\u001b[0m\u001b[1;33m.\u001b[0m\u001b[0m_log_event\u001b[0m\u001b[1;33m(\u001b[0m\u001b[0mevent_type\u001b[0m\u001b[1;33m,\u001b[0m \u001b[0msuccess\u001b[0m\u001b[1;33m=\u001b[0m\u001b[1;32mFalse\u001b[0m\u001b[1;33m,\u001b[0m \u001b[0merror\u001b[0m\u001b[1;33m=\u001b[0m\u001b[0me\u001b[0m\u001b[1;33m)\u001b[0m\u001b[1;33m\u001b[0m\u001b[1;33m\u001b[0m\u001b[0m\n\u001b[1;32m--> 132\u001b[1;33m                     \u001b[1;32mraise\u001b[0m \u001b[0me\u001b[0m\u001b[1;33m\u001b[0m\u001b[1;33m\u001b[0m\u001b[0m\n\u001b[0m\u001b[0;32m    133\u001b[0m                 \u001b[1;32melse\u001b[0m\u001b[1;33m:\u001b[0m\u001b[1;33m\u001b[0m\u001b[1;33m\u001b[0m\u001b[0m\n\u001b[0;32m    134\u001b[0m                     \u001b[0mself\u001b[0m\u001b[1;33m.\u001b[0m\u001b[0m_log_event\u001b[0m\u001b[1;33m(\u001b[0m\u001b[0mevent_type\u001b[0m\u001b[1;33m,\u001b[0m \u001b[0mresults\u001b[0m\u001b[1;33m=\u001b[0m\u001b[0mresults\u001b[0m\u001b[1;33m,\u001b[0m \u001b[0mquestion\u001b[0m\u001b[1;33m=\u001b[0m\u001b[0mquestion\u001b[0m\u001b[1;33m,\u001b[0m \u001b[0mshelve_env\u001b[0m\u001b[1;33m=\u001b[0m\u001b[0mshelve_env\u001b[0m\u001b[1;33m)\u001b[0m\u001b[1;33m\u001b[0m\u001b[1;33m\u001b[0m\u001b[0m\n",
      "\u001b[1;32m~\\miniconda3\\lib\\site-packages\\otter\\check\\utils.py\u001b[0m in \u001b[0;36mrun_function\u001b[1;34m(self, *args, **kwargs)\u001b[0m\n\u001b[0;32m    123\u001b[0m                 \u001b[1;32mtry\u001b[0m\u001b[1;33m:\u001b[0m\u001b[1;33m\u001b[0m\u001b[1;33m\u001b[0m\u001b[0m\n\u001b[0;32m    124\u001b[0m                     \u001b[1;32mif\u001b[0m \u001b[0mevent_type\u001b[0m \u001b[1;33m==\u001b[0m \u001b[0mEventType\u001b[0m\u001b[1;33m.\u001b[0m\u001b[0mCHECK\u001b[0m\u001b[1;33m:\u001b[0m\u001b[1;33m\u001b[0m\u001b[1;33m\u001b[0m\u001b[0m\n\u001b[1;32m--> 125\u001b[1;33m                         \u001b[0mquestion\u001b[0m\u001b[1;33m,\u001b[0m \u001b[0mresults\u001b[0m\u001b[1;33m,\u001b[0m \u001b[0mshelve_env\u001b[0m \u001b[1;33m=\u001b[0m \u001b[0mf\u001b[0m\u001b[1;33m(\u001b[0m\u001b[0mself\u001b[0m\u001b[1;33m,\u001b[0m \u001b[1;33m*\u001b[0m\u001b[0margs\u001b[0m\u001b[1;33m,\u001b[0m \u001b[1;33m**\u001b[0m\u001b[0mkwargs\u001b[0m\u001b[1;33m)\u001b[0m\u001b[1;33m\u001b[0m\u001b[1;33m\u001b[0m\u001b[0m\n\u001b[0m\u001b[0;32m    126\u001b[0m                     \u001b[1;32melse\u001b[0m\u001b[1;33m:\u001b[0m\u001b[1;33m\u001b[0m\u001b[1;33m\u001b[0m\u001b[0m\n\u001b[0;32m    127\u001b[0m                         \u001b[0mresults\u001b[0m \u001b[1;33m=\u001b[0m \u001b[0mf\u001b[0m\u001b[1;33m(\u001b[0m\u001b[0mself\u001b[0m\u001b[1;33m,\u001b[0m \u001b[1;33m*\u001b[0m\u001b[0margs\u001b[0m\u001b[1;33m,\u001b[0m \u001b[1;33m**\u001b[0m\u001b[0mkwargs\u001b[0m\u001b[1;33m)\u001b[0m\u001b[1;33m\u001b[0m\u001b[1;33m\u001b[0m\u001b[0m\n",
      "\u001b[1;32m~\\miniconda3\\lib\\site-packages\\otter\\check\\notebook.py\u001b[0m in \u001b[0;36mcheck\u001b[1;34m(self, question, global_env)\u001b[0m\n\u001b[0;32m    175\u001b[0m \u001b[1;33m\u001b[0m\u001b[0m\n\u001b[0;32m    176\u001b[0m         \u001b[1;31m# run the check\u001b[0m\u001b[1;33m\u001b[0m\u001b[1;33m\u001b[0m\u001b[1;33m\u001b[0m\u001b[0m\n\u001b[1;32m--> 177\u001b[1;33m         \u001b[0mresult\u001b[0m \u001b[1;33m=\u001b[0m \u001b[0mcheck\u001b[0m\u001b[1;33m(\u001b[0m\u001b[0mtest_path\u001b[0m\u001b[1;33m,\u001b[0m \u001b[0mtest_name\u001b[0m\u001b[1;33m,\u001b[0m \u001b[0mglobal_env\u001b[0m\u001b[1;33m)\u001b[0m\u001b[1;33m\u001b[0m\u001b[1;33m\u001b[0m\u001b[0m\n\u001b[0m\u001b[0;32m    178\u001b[0m \u001b[1;33m\u001b[0m\u001b[0m\n\u001b[0;32m    179\u001b[0m         \u001b[1;32mreturn\u001b[0m \u001b[0mquestion\u001b[0m\u001b[1;33m,\u001b[0m \u001b[0mresult\u001b[0m\u001b[1;33m,\u001b[0m \u001b[0mglobal_env\u001b[0m\u001b[1;33m\u001b[0m\u001b[1;33m\u001b[0m\u001b[0m\n",
      "\u001b[1;32m~\\miniconda3\\lib\\site-packages\\otter\\execute\\__init__.py\u001b[0m in \u001b[0;36mcheck\u001b[1;34m(nb_or_test_path, test_name, global_env)\u001b[0m\n\u001b[0;32m     44\u001b[0m         \u001b[0mtest\u001b[0m \u001b[1;33m=\u001b[0m \u001b[0mOKTestFile\u001b[0m\u001b[1;33m.\u001b[0m\u001b[0mfrom_file\u001b[0m\u001b[1;33m(\u001b[0m\u001b[0mnb_or_test_path\u001b[0m\u001b[1;33m)\u001b[0m\u001b[1;33m\u001b[0m\u001b[1;33m\u001b[0m\u001b[0m\n\u001b[0;32m     45\u001b[0m     \u001b[1;32melse\u001b[0m\u001b[1;33m:\u001b[0m\u001b[1;33m\u001b[0m\u001b[1;33m\u001b[0m\u001b[0m\n\u001b[1;32m---> 46\u001b[1;33m         \u001b[0mtest\u001b[0m \u001b[1;33m=\u001b[0m \u001b[0mNotebookMetadataOKTestFile\u001b[0m\u001b[1;33m.\u001b[0m\u001b[0mfrom_file\u001b[0m\u001b[1;33m(\u001b[0m\u001b[0mnb_or_test_path\u001b[0m\u001b[1;33m,\u001b[0m \u001b[0mtest_name\u001b[0m\u001b[1;33m)\u001b[0m\u001b[1;33m\u001b[0m\u001b[1;33m\u001b[0m\u001b[0m\n\u001b[0m\u001b[0;32m     47\u001b[0m \u001b[1;33m\u001b[0m\u001b[0m\n\u001b[0;32m     48\u001b[0m     \u001b[1;32mif\u001b[0m \u001b[0mglobal_env\u001b[0m \u001b[1;32mis\u001b[0m \u001b[1;32mNone\u001b[0m\u001b[1;33m:\u001b[0m\u001b[1;33m\u001b[0m\u001b[1;33m\u001b[0m\u001b[0m\n",
      "\u001b[1;32m~\\miniconda3\\lib\\site-packages\\otter\\test_files\\metadata_test.py\u001b[0m in \u001b[0;36mfrom_file\u001b[1;34m(cls, path, test_name)\u001b[0m\n\u001b[0;32m     72\u001b[0m         \"\"\"\n\u001b[0;32m     73\u001b[0m         \u001b[1;32mwith\u001b[0m \u001b[0mopen\u001b[0m\u001b[1;33m(\u001b[0m\u001b[0mpath\u001b[0m\u001b[1;33m)\u001b[0m \u001b[1;32mas\u001b[0m \u001b[0mf\u001b[0m\u001b[1;33m:\u001b[0m\u001b[1;33m\u001b[0m\u001b[1;33m\u001b[0m\u001b[0m\n\u001b[1;32m---> 74\u001b[1;33m             \u001b[0mnb\u001b[0m \u001b[1;33m=\u001b[0m \u001b[0mjson\u001b[0m\u001b[1;33m.\u001b[0m\u001b[0mload\u001b[0m\u001b[1;33m(\u001b[0m\u001b[0mf\u001b[0m\u001b[1;33m)\u001b[0m\u001b[1;33m\u001b[0m\u001b[1;33m\u001b[0m\u001b[0m\n\u001b[0m\u001b[0;32m     75\u001b[0m \u001b[1;33m\u001b[0m\u001b[0m\n\u001b[0;32m     76\u001b[0m         \u001b[0mtest_spec\u001b[0m \u001b[1;33m=\u001b[0m \u001b[0mnb\u001b[0m\u001b[1;33m[\u001b[0m\u001b[1;34m\"metadata\"\u001b[0m\u001b[1;33m]\u001b[0m\u001b[1;33m[\u001b[0m\u001b[0mNOTEBOOK_METADATA_KEY\u001b[0m\u001b[1;33m]\u001b[0m\u001b[1;33m[\u001b[0m\u001b[1;34m\"tests\"\u001b[0m\u001b[1;33m]\u001b[0m\u001b[1;33m\u001b[0m\u001b[1;33m\u001b[0m\u001b[0m\n",
      "\u001b[1;32m~\\miniconda3\\lib\\json\\__init__.py\u001b[0m in \u001b[0;36mload\u001b[1;34m(fp, cls, object_hook, parse_float, parse_int, parse_constant, object_pairs_hook, **kw)\u001b[0m\n\u001b[0;32m    291\u001b[0m     \u001b[0mkwarg\u001b[0m\u001b[1;33m;\u001b[0m \u001b[0motherwise\u001b[0m\u001b[0;31m \u001b[0m\u001b[0;31m`\u001b[0m\u001b[0;31m`\u001b[0m\u001b[0mJSONDecoder\u001b[0m\u001b[0;31m`\u001b[0m\u001b[0;31m`\u001b[0m \u001b[1;32mis\u001b[0m \u001b[0mused\u001b[0m\u001b[1;33m.\u001b[0m\u001b[1;33m\u001b[0m\u001b[1;33m\u001b[0m\u001b[0m\n\u001b[0;32m    292\u001b[0m     \"\"\"\n\u001b[1;32m--> 293\u001b[1;33m     return loads(fp.read(),\n\u001b[0m\u001b[0;32m    294\u001b[0m         \u001b[0mcls\u001b[0m\u001b[1;33m=\u001b[0m\u001b[0mcls\u001b[0m\u001b[1;33m,\u001b[0m \u001b[0mobject_hook\u001b[0m\u001b[1;33m=\u001b[0m\u001b[0mobject_hook\u001b[0m\u001b[1;33m,\u001b[0m\u001b[1;33m\u001b[0m\u001b[1;33m\u001b[0m\u001b[0m\n\u001b[0;32m    295\u001b[0m         \u001b[0mparse_float\u001b[0m\u001b[1;33m=\u001b[0m\u001b[0mparse_float\u001b[0m\u001b[1;33m,\u001b[0m \u001b[0mparse_int\u001b[0m\u001b[1;33m=\u001b[0m\u001b[0mparse_int\u001b[0m\u001b[1;33m,\u001b[0m\u001b[1;33m\u001b[0m\u001b[1;33m\u001b[0m\u001b[0m\n",
      "\u001b[1;31mUnicodeDecodeError\u001b[0m: 'gbk' codec can't decode byte 0xaa in position 10340: illegal multibyte sequence"
     ]
    }
   ],
   "source": [
    "grader.check(\"q6\")"
   ]
  },
  {
   "cell_type": "markdown",
   "metadata": {},
   "source": [
    "<!-- END QUESTION -->\n",
    "\n",
    "---\n",
    "\n",
    "# Submission \n",
    "\n",
    "When you are ready to submit your assignment do the following:\n",
    "\n",
    "1. Run all cells in your notebook to make sure there are no errors by doing `Kernel -> Restart Kernel and Run All Cells...`\n",
    "2. Enter Canvas and upload the assignment using Gradescope's drag and drop tool.\n",
    "3. Don't forget to also push your work to GitHub.\n",
    "\n",
    "Remember that you will find a detailed set of instructions including videos on [Canvas](https://canvas.ubc.ca/courses/78160)."
   ]
  },
  {
   "cell_type": "markdown",
   "metadata": {
    "deletable": false,
    "editable": false
   },
   "source": [
    "---\n",
    "\n",
    "To double-check your work, the cell below will rerun all of the autograder tests."
   ]
  },
  {
   "cell_type": "code",
   "execution_count": 5,
   "metadata": {
    "deletable": false,
    "editable": false
   },
   "outputs": [
    {
     "ename": "UnicodeDecodeError",
     "evalue": "'gbk' codec can't decode byte 0xaa in position 10340: illegal multibyte sequence",
     "output_type": "error",
     "traceback": [
      "\u001b[1;31m---------------------------------------------------------------------------\u001b[0m",
      "\u001b[1;31mUnicodeDecodeError\u001b[0m                        Traceback (most recent call last)",
      "\u001b[1;32m~\\AppData\\Local\\Temp/ipykernel_16116/2391968918.py\u001b[0m in \u001b[0;36m<module>\u001b[1;34m\u001b[0m\n\u001b[1;32m----> 1\u001b[1;33m \u001b[0mgrader\u001b[0m\u001b[1;33m.\u001b[0m\u001b[0mcheck_all\u001b[0m\u001b[1;33m(\u001b[0m\u001b[1;33m)\u001b[0m\u001b[1;33m\u001b[0m\u001b[1;33m\u001b[0m\u001b[0m\n\u001b[0m",
      "\u001b[1;32m~\\miniconda3\\lib\\site-packages\\otter\\check\\utils.py\u001b[0m in \u001b[0;36mrun_function\u001b[1;34m(self, *args, **kwargs)\u001b[0m\n\u001b[0;32m    130\u001b[0m                 \u001b[1;32mexcept\u001b[0m \u001b[0mException\u001b[0m \u001b[1;32mas\u001b[0m \u001b[0me\u001b[0m\u001b[1;33m:\u001b[0m\u001b[1;33m\u001b[0m\u001b[1;33m\u001b[0m\u001b[0m\n\u001b[0;32m    131\u001b[0m                     \u001b[0mself\u001b[0m\u001b[1;33m.\u001b[0m\u001b[0m_log_event\u001b[0m\u001b[1;33m(\u001b[0m\u001b[0mevent_type\u001b[0m\u001b[1;33m,\u001b[0m \u001b[0msuccess\u001b[0m\u001b[1;33m=\u001b[0m\u001b[1;32mFalse\u001b[0m\u001b[1;33m,\u001b[0m \u001b[0merror\u001b[0m\u001b[1;33m=\u001b[0m\u001b[0me\u001b[0m\u001b[1;33m)\u001b[0m\u001b[1;33m\u001b[0m\u001b[1;33m\u001b[0m\u001b[0m\n\u001b[1;32m--> 132\u001b[1;33m                     \u001b[1;32mraise\u001b[0m \u001b[0me\u001b[0m\u001b[1;33m\u001b[0m\u001b[1;33m\u001b[0m\u001b[0m\n\u001b[0m\u001b[0;32m    133\u001b[0m                 \u001b[1;32melse\u001b[0m\u001b[1;33m:\u001b[0m\u001b[1;33m\u001b[0m\u001b[1;33m\u001b[0m\u001b[0m\n\u001b[0;32m    134\u001b[0m                     \u001b[0mself\u001b[0m\u001b[1;33m.\u001b[0m\u001b[0m_log_event\u001b[0m\u001b[1;33m(\u001b[0m\u001b[0mevent_type\u001b[0m\u001b[1;33m,\u001b[0m \u001b[0mresults\u001b[0m\u001b[1;33m=\u001b[0m\u001b[0mresults\u001b[0m\u001b[1;33m,\u001b[0m \u001b[0mquestion\u001b[0m\u001b[1;33m=\u001b[0m\u001b[0mquestion\u001b[0m\u001b[1;33m,\u001b[0m \u001b[0mshelve_env\u001b[0m\u001b[1;33m=\u001b[0m\u001b[0mshelve_env\u001b[0m\u001b[1;33m)\u001b[0m\u001b[1;33m\u001b[0m\u001b[1;33m\u001b[0m\u001b[0m\n",
      "\u001b[1;32m~\\miniconda3\\lib\\site-packages\\otter\\check\\utils.py\u001b[0m in \u001b[0;36mrun_function\u001b[1;34m(self, *args, **kwargs)\u001b[0m\n\u001b[0;32m    125\u001b[0m                         \u001b[0mquestion\u001b[0m\u001b[1;33m,\u001b[0m \u001b[0mresults\u001b[0m\u001b[1;33m,\u001b[0m \u001b[0mshelve_env\u001b[0m \u001b[1;33m=\u001b[0m \u001b[0mf\u001b[0m\u001b[1;33m(\u001b[0m\u001b[0mself\u001b[0m\u001b[1;33m,\u001b[0m \u001b[1;33m*\u001b[0m\u001b[0margs\u001b[0m\u001b[1;33m,\u001b[0m \u001b[1;33m**\u001b[0m\u001b[0mkwargs\u001b[0m\u001b[1;33m)\u001b[0m\u001b[1;33m\u001b[0m\u001b[1;33m\u001b[0m\u001b[0m\n\u001b[0;32m    126\u001b[0m                     \u001b[1;32melse\u001b[0m\u001b[1;33m:\u001b[0m\u001b[1;33m\u001b[0m\u001b[1;33m\u001b[0m\u001b[0m\n\u001b[1;32m--> 127\u001b[1;33m                         \u001b[0mresults\u001b[0m \u001b[1;33m=\u001b[0m \u001b[0mf\u001b[0m\u001b[1;33m(\u001b[0m\u001b[0mself\u001b[0m\u001b[1;33m,\u001b[0m \u001b[1;33m*\u001b[0m\u001b[0margs\u001b[0m\u001b[1;33m,\u001b[0m \u001b[1;33m**\u001b[0m\u001b[0mkwargs\u001b[0m\u001b[1;33m)\u001b[0m\u001b[1;33m\u001b[0m\u001b[1;33m\u001b[0m\u001b[0m\n\u001b[0m\u001b[0;32m    128\u001b[0m                         \u001b[0mshelve_env\u001b[0m \u001b[1;33m=\u001b[0m \u001b[1;33m{\u001b[0m\u001b[1;33m}\u001b[0m\u001b[1;33m\u001b[0m\u001b[1;33m\u001b[0m\u001b[0m\n\u001b[0;32m    129\u001b[0m                         \u001b[0mquestion\u001b[0m \u001b[1;33m=\u001b[0m \u001b[1;32mNone\u001b[0m\u001b[1;33m\u001b[0m\u001b[1;33m\u001b[0m\u001b[0m\n",
      "\u001b[1;32m~\\miniconda3\\lib\\site-packages\\otter\\check\\notebook.py\u001b[0m in \u001b[0;36mcheck_all\u001b[1;34m(self)\u001b[0m\n\u001b[0;32m    374\u001b[0m             \u001b[0mnb_path\u001b[0m \u001b[1;33m=\u001b[0m \u001b[0mself\u001b[0m\u001b[1;33m.\u001b[0m\u001b[0m_resolve_nb_path\u001b[0m\u001b[1;33m(\u001b[0m\u001b[1;32mNone\u001b[0m\u001b[1;33m)\u001b[0m\u001b[1;33m\u001b[0m\u001b[1;33m\u001b[0m\u001b[0m\n\u001b[0;32m    375\u001b[0m             \u001b[1;32mwith\u001b[0m \u001b[0mopen\u001b[0m\u001b[1;33m(\u001b[0m\u001b[0mnb_path\u001b[0m\u001b[1;33m)\u001b[0m \u001b[1;32mas\u001b[0m \u001b[0mf\u001b[0m\u001b[1;33m:\u001b[0m\u001b[1;33m\u001b[0m\u001b[1;33m\u001b[0m\u001b[0m\n\u001b[1;32m--> 376\u001b[1;33m                 \u001b[0mnb\u001b[0m \u001b[1;33m=\u001b[0m \u001b[0mjson\u001b[0m\u001b[1;33m.\u001b[0m\u001b[0mload\u001b[0m\u001b[1;33m(\u001b[0m\u001b[0mf\u001b[0m\u001b[1;33m)\u001b[0m\u001b[1;33m\u001b[0m\u001b[1;33m\u001b[0m\u001b[0m\n\u001b[0m\u001b[0;32m    377\u001b[0m             \u001b[0mtests\u001b[0m \u001b[1;33m=\u001b[0m \u001b[0mlist\u001b[0m\u001b[1;33m(\u001b[0m\u001b[0mnb\u001b[0m\u001b[1;33m[\u001b[0m\u001b[1;34m\"metadata\"\u001b[0m\u001b[1;33m]\u001b[0m\u001b[1;33m[\u001b[0m\u001b[0mNOTEBOOK_METADATA_KEY\u001b[0m\u001b[1;33m]\u001b[0m\u001b[1;33m[\u001b[0m\u001b[1;34m\"tests\"\u001b[0m\u001b[1;33m]\u001b[0m\u001b[1;33m.\u001b[0m\u001b[0mkeys\u001b[0m\u001b[1;33m(\u001b[0m\u001b[1;33m)\u001b[0m\u001b[1;33m)\u001b[0m\u001b[1;33m\u001b[0m\u001b[1;33m\u001b[0m\u001b[0m\n\u001b[0;32m    378\u001b[0m \u001b[1;33m\u001b[0m\u001b[0m\n",
      "\u001b[1;32m~\\miniconda3\\lib\\json\\__init__.py\u001b[0m in \u001b[0;36mload\u001b[1;34m(fp, cls, object_hook, parse_float, parse_int, parse_constant, object_pairs_hook, **kw)\u001b[0m\n\u001b[0;32m    291\u001b[0m     \u001b[0mkwarg\u001b[0m\u001b[1;33m;\u001b[0m \u001b[0motherwise\u001b[0m\u001b[0;31m \u001b[0m\u001b[0;31m`\u001b[0m\u001b[0;31m`\u001b[0m\u001b[0mJSONDecoder\u001b[0m\u001b[0;31m`\u001b[0m\u001b[0;31m`\u001b[0m \u001b[1;32mis\u001b[0m \u001b[0mused\u001b[0m\u001b[1;33m.\u001b[0m\u001b[1;33m\u001b[0m\u001b[1;33m\u001b[0m\u001b[0m\n\u001b[0;32m    292\u001b[0m     \"\"\"\n\u001b[1;32m--> 293\u001b[1;33m     return loads(fp.read(),\n\u001b[0m\u001b[0;32m    294\u001b[0m         \u001b[0mcls\u001b[0m\u001b[1;33m=\u001b[0m\u001b[0mcls\u001b[0m\u001b[1;33m,\u001b[0m \u001b[0mobject_hook\u001b[0m\u001b[1;33m=\u001b[0m\u001b[0mobject_hook\u001b[0m\u001b[1;33m,\u001b[0m\u001b[1;33m\u001b[0m\u001b[1;33m\u001b[0m\u001b[0m\n\u001b[0;32m    295\u001b[0m         \u001b[0mparse_float\u001b[0m\u001b[1;33m=\u001b[0m\u001b[0mparse_float\u001b[0m\u001b[1;33m,\u001b[0m \u001b[0mparse_int\u001b[0m\u001b[1;33m=\u001b[0m\u001b[0mparse_int\u001b[0m\u001b[1;33m,\u001b[0m\u001b[1;33m\u001b[0m\u001b[1;33m\u001b[0m\u001b[0m\n",
      "\u001b[1;31mUnicodeDecodeError\u001b[0m: 'gbk' codec can't decode byte 0xaa in position 10340: illegal multibyte sequence"
     ]
    }
   ],
   "source": [
    "grader.check_all()"
   ]
  }
 ],
 "metadata": {
  "interpreter": {
   "hash": "b319716b0346eb12085fd5197d37942b2372f733afdc46387bcecfaa2bd21dfe"
  },
  "kernelspec": {
   "display_name": "Python 3 (ipykernel)",
   "language": "python",
   "name": "python3"
  },
  "language_info": {
   "codemirror_mode": {
    "name": "ipython",
    "version": 3
   },
   "file_extension": ".py",
   "mimetype": "text/x-python",
   "name": "python",
   "nbconvert_exporter": "python",
   "pygments_lexer": "ipython3",
   "version": "3.9.5"
  },
  "otter": {
   "tests": {
    "q6": {
     "name": "q6",
     "points": null,
     "suites": [
      {
       "cases": [],
       "scored": true,
       "setup": "",
       "teardown": "",
       "type": "doctest"
      }
     ]
    }
   }
  }
 },
 "nbformat": 4,
 "nbformat_minor": 4
}
